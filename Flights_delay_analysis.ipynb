{
  "nbformat": 4,
  "nbformat_minor": 0,
  "metadata": {
    "colab": {
      "provenance": []
    },
    "kernelspec": {
      "name": "python3",
      "display_name": "Python 3"
    },
    "language_info": {
      "name": "python"
    }
  },
  "cells": [
    {
      "cell_type": "markdown",
      "source": [
        "Flight delays analysis using sparkSQL-pyspark"
      ],
      "metadata": {
        "id": "hTnI-oaJ5rn6"
      }
    },
    {
      "cell_type": "code",
      "execution_count": null,
      "metadata": {
        "colab": {
          "base_uri": "https://localhost:8080/"
        },
        "id": "xO9g30bzqaMa",
        "outputId": "86168e20-2d9c-4a27-c1ef-59a50aa42a5c"
      },
      "outputs": [
        {
          "output_type": "stream",
          "name": "stdout",
          "text": [
            "Collecting pyspark\n",
            "  Downloading pyspark-3.5.2.tar.gz (317.3 MB)\n",
            "\u001b[2K     \u001b[90m━━━━━━━━━━━━━━━━━━━━━━━━━━━━━━━━━━━━━━━━\u001b[0m \u001b[32m317.3/317.3 MB\u001b[0m \u001b[31m4.5 MB/s\u001b[0m eta \u001b[36m0:00:00\u001b[0m\n",
            "\u001b[?25h  Preparing metadata (setup.py) ... \u001b[?25l\u001b[?25hdone\n",
            "Requirement already satisfied: py4j==0.10.9.7 in /usr/local/lib/python3.10/dist-packages (from pyspark) (0.10.9.7)\n",
            "Building wheels for collected packages: pyspark\n",
            "  Building wheel for pyspark (setup.py) ... \u001b[?25l\u001b[?25hdone\n",
            "  Created wheel for pyspark: filename=pyspark-3.5.2-py2.py3-none-any.whl size=317812365 sha256=e0d76b131d660668991d8e323d5d10d7f607e97cfb7853fd94fc6b173d9fea03\n",
            "  Stored in directory: /root/.cache/pip/wheels/34/34/bd/03944534c44b677cd5859f248090daa9fb27b3c8f8e5f49574\n",
            "Successfully built pyspark\n",
            "Installing collected packages: pyspark\n",
            "Successfully installed pyspark-3.5.2\n"
          ]
        }
      ],
      "source": [
        "pip install pyspark"
      ]
    },
    {
      "cell_type": "code",
      "source": [
        "from pyspark.sql import SparkSession\n",
        "from pyspark.sql.functions import col, sum, avg, count"
      ],
      "metadata": {
        "id": "bVDUo8q1rpGe"
      },
      "execution_count": null,
      "outputs": []
    },
    {
      "cell_type": "code",
      "source": [
        "# Initialize SparkSession\n",
        "spark = SparkSession.builder \\\n",
        "    .appName(\"Flights Analysis\") \\\n",
        "    .getOrCreate()\n"
      ],
      "metadata": {
        "id": "rg8e1IbxrpKl"
      },
      "execution_count": null,
      "outputs": []
    },
    {
      "cell_type": "code",
      "source": [
        "spark"
      ],
      "metadata": {
        "colab": {
          "base_uri": "https://localhost:8080/",
          "height": 219
        },
        "id": "AUb6KNO7rpOW",
        "outputId": "16dc4f63-ef28-4bbf-8d00-45ef64e38e98"
      },
      "execution_count": null,
      "outputs": [
        {
          "output_type": "execute_result",
          "data": {
            "text/plain": [
              "<pyspark.sql.session.SparkSession at 0x7f731d74e530>"
            ],
            "text/html": [
              "\n",
              "            <div>\n",
              "                <p><b>SparkSession - in-memory</b></p>\n",
              "                \n",
              "        <div>\n",
              "            <p><b>SparkContext</b></p>\n",
              "\n",
              "            <p><a href=\"http://0ea7922c9538:4040\">Spark UI</a></p>\n",
              "\n",
              "            <dl>\n",
              "              <dt>Version</dt>\n",
              "                <dd><code>v3.5.2</code></dd>\n",
              "              <dt>Master</dt>\n",
              "                <dd><code>local[*]</code></dd>\n",
              "              <dt>AppName</dt>\n",
              "                <dd><code>Flights Analysis</code></dd>\n",
              "            </dl>\n",
              "        </div>\n",
              "        \n",
              "            </div>\n",
              "        "
            ]
          },
          "metadata": {},
          "execution_count": 4
        }
      ]
    },
    {
      "cell_type": "code",
      "source": [
        "# Load the flights dataset\n",
        "flights = spark.read.format(\"csv\") \\\n",
        ".option(\"header\", \"true\") \\\n",
        "    .option(\"inferSchema\", \"true\") \\\n",
        "    .load(\"/content/departuredelays.csv\")\n"
      ],
      "metadata": {
        "id": "hRkDSRf0rpRu"
      },
      "execution_count": null,
      "outputs": []
    },
    {
      "cell_type": "code",
      "source": [
        "#create a temporary view of ddatframe\n",
        "flights.createOrReplaceTempView(\"flights\")"
      ],
      "metadata": {
        "id": "1zi6KrVKrpVW"
      },
      "execution_count": null,
      "outputs": []
    },
    {
      "cell_type": "code",
      "source": [
        "# Perform analysis using Spark SQL\n",
        "# Example 1: Average delay by origin airport\n",
        "avg_delay_by_origin_mithil=spark.sql(\"\"\"\n",
        "    SELECT origin,Avg(delay)as avg_delay\n",
        "    FROM flights\n",
        "    GROUP BY origin\n",
        "    ORDER BY avg_delay DESC\n",
        "    LIMIT 10\n",
        "\"\"\")"
      ],
      "metadata": {
        "id": "oRgz3ct0rpY2"
      },
      "execution_count": null,
      "outputs": []
    },
    {
      "cell_type": "code",
      "source": [
        "avg_delay_by_origin_mithil.show()"
      ],
      "metadata": {
        "colab": {
          "base_uri": "https://localhost:8080/"
        },
        "id": "RbVCMEeJrpf1",
        "outputId": "01c38010-064e-4903-e952-f9ff10661a77"
      },
      "execution_count": null,
      "outputs": [
        {
          "output_type": "stream",
          "name": "stdout",
          "text": [
            "+------+------------------+\n",
            "|origin|         avg_delay|\n",
            "+------+------------------+\n",
            "|   GUM| 33.87777777777778|\n",
            "|   LSE|26.532467532467532|\n",
            "|   MQT| 23.87012987012987|\n",
            "|   EGE| 20.57012542759407|\n",
            "|   ROA|19.885106382978723|\n",
            "|   MDW|19.657658556043078|\n",
            "|   BTV|  18.7246192893401|\n",
            "|   ORD|18.588917606028524|\n",
            "|   IAD| 18.40343803056027|\n",
            "|   SCE| 17.91616766467066|\n",
            "+------+------------------+\n",
            "\n"
          ]
        }
      ]
    },
    {
      "cell_type": "code",
      "source": [
        "#emaple 2: tot flights and average delay by day of week\n",
        "flights_by_day_mithil=spark.sql(\"\"\"\n",
        "SELECT\n",
        "date,\n",
        "COUNT(*) as total_flights,\n",
        "AVG(delay) as avg_delay\n",
        "From flights\n",
        "group By date\n",
        "order by date\n",
        "limit 7\n",
        "\"\"\")"
      ],
      "metadata": {
        "id": "5-euQmM9t8vt"
      },
      "execution_count": null,
      "outputs": []
    },
    {
      "cell_type": "code",
      "source": [
        "flights_by_day_mithil.collect()"
      ],
      "metadata": {
        "colab": {
          "base_uri": "https://localhost:8080/"
        },
        "id": "jRnoZNpnt8yX",
        "outputId": "93028880-a1df-4582-bf86-564fe22dbfa3"
      },
      "execution_count": null,
      "outputs": [
        {
          "output_type": "execute_result",
          "data": {
            "text/plain": [
              "[Row(date=1010005, total_flights=1, avg_delay=-8.0),\n",
              " Row(date=1010010, total_flights=1, avg_delay=-6.0),\n",
              " Row(date=1010020, total_flights=2, avg_delay=-1.0),\n",
              " Row(date=1010023, total_flights=1, avg_delay=14.0),\n",
              " Row(date=1010025, total_flights=2, avg_delay=15.0),\n",
              " Row(date=1010029, total_flights=1, avg_delay=49.0),\n",
              " Row(date=1010030, total_flights=3, avg_delay=-5.666666666666667)]"
            ]
          },
          "metadata": {},
          "execution_count": 19
        }
      ]
    },
    {
      "cell_type": "code",
      "source": [
        "# Example 3: Top 5 routes with the highest total delay\n",
        "top_delayed_routes_mithil = spark.sql(\"\"\"\n",
        "    SELECT\n",
        "        origin,\n",
        "        destination,\n",
        "        SUM(delay) as total_delay,\n",
        "        COUNT(*) as flight_count\n",
        "    FROM flights\n",
        "    GROUP BY origin, destination\n",
        "    ORDER BY total_delay DESC\n",
        "    LIMIT 5\n",
        "\"\"\")\n"
      ],
      "metadata": {
        "id": "r9R0GISYt83d"
      },
      "execution_count": null,
      "outputs": []
    },
    {
      "cell_type": "code",
      "source": [
        "top_delayed_routes_mithil.show()\n"
      ],
      "metadata": {
        "colab": {
          "base_uri": "https://localhost:8080/"
        },
        "id": "09aUhq3uxHEj",
        "outputId": "9609662c-8cca-47b1-e61b-6fed044e0dca"
      },
      "execution_count": null,
      "outputs": [
        {
          "output_type": "stream",
          "name": "stdout",
          "text": [
            "+------+-----------+-----------+------------+\n",
            "|origin|destination|total_delay|flight_count|\n",
            "+------+-----------+-----------+------------+\n",
            "|   LAX|        SFO|      51844|        3198|\n",
            "|   ORD|        SFO|      41653|        1731|\n",
            "|   SFO|        LAX|      40798|        3232|\n",
            "|   LGA|        ATL|      35761|        2500|\n",
            "|   JFK|        LAX|      35755|        2720|\n",
            "+------+-----------+-----------+------------+\n",
            "\n"
          ]
        }
      ]
    },
    {
      "cell_type": "code",
      "source": [
        "#show results\n",
        "print(\"Top 10 origins by average delay:\")\n",
        "avg_delay_by_origin_mithil.show()\n",
        "\n",
        "print(\"\\nflights and average delay by day (first week):\")\n",
        "flights_by_day_mithil.show()\n",
        "\n",
        "print(\"\\nTop 5 routes with highest total delay:\")\n",
        "top_delayed_routes_mithil.show()"
      ],
      "metadata": {
        "colab": {
          "base_uri": "https://localhost:8080/"
        },
        "id": "38o6MLWlxRbL",
        "outputId": "2c61519b-8cc3-43e1-8b31-166a8974d48c"
      },
      "execution_count": null,
      "outputs": [
        {
          "output_type": "stream",
          "name": "stdout",
          "text": [
            "Top 10 origins by average delay:\n",
            "+------+------------------+\n",
            "|origin|         avg_delay|\n",
            "+------+------------------+\n",
            "|   GUM| 33.87777777777778|\n",
            "|   LSE|26.532467532467532|\n",
            "|   MQT| 23.87012987012987|\n",
            "|   EGE| 20.57012542759407|\n",
            "|   ROA|19.885106382978723|\n",
            "|   MDW|19.657658556043078|\n",
            "|   BTV|  18.7246192893401|\n",
            "|   ORD|18.588917606028524|\n",
            "|   IAD| 18.40343803056027|\n",
            "|   SCE| 17.91616766467066|\n",
            "+------+------------------+\n",
            "\n",
            "\n",
            "flights and average delay by day (first week):\n",
            "+-------+-------------+------------------+\n",
            "|   date|total_flights|         avg_delay|\n",
            "+-------+-------------+------------------+\n",
            "|1010005|            1|              -8.0|\n",
            "|1010010|            1|              -6.0|\n",
            "|1010020|            2|              -1.0|\n",
            "|1010023|            1|              14.0|\n",
            "|1010025|            2|              15.0|\n",
            "|1010029|            1|              49.0|\n",
            "|1010030|            3|-5.666666666666667|\n",
            "+-------+-------------+------------------+\n",
            "\n",
            "\n",
            "Top 5 routes with highest total delay:\n",
            "+------+-----------+-----------+------------+\n",
            "|origin|destination|total_delay|flight_count|\n",
            "+------+-----------+-----------+------------+\n",
            "|   LAX|        SFO|      51844|        3198|\n",
            "|   ORD|        SFO|      41653|        1731|\n",
            "|   SFO|        LAX|      40798|        3232|\n",
            "|   LGA|        ATL|      35761|        2500|\n",
            "|   JFK|        LAX|      35755|        2720|\n",
            "+------+-----------+-----------+------------+\n",
            "\n"
          ]
        }
      ]
    },
    {
      "cell_type": "code",
      "source": [
        "#stop the sparksession\n",
        "spark.stop()"
      ],
      "metadata": {
        "id": "0Zg6t2smxRes"
      },
      "execution_count": null,
      "outputs": []
    },
    {
      "cell_type": "code",
      "source": [
        "from pyspark.sql import SparkSession\n",
        "from pyspark.sql.functions import col,sum,avg,count,hour,month"
      ],
      "metadata": {
        "id": "7XTGLJBRxRhs"
      },
      "execution_count": null,
      "outputs": []
    },
    {
      "cell_type": "code",
      "source": [
        "#initialize Sparksession\n",
        "spark=SparkSession.builder \\\n",
        ".appName(\"extended flights analysis\") \\\n",
        ".getOrCreate()"
      ],
      "metadata": {
        "id": "P6RtZbYqxRk8"
      },
      "execution_count": null,
      "outputs": []
    },
    {
      "cell_type": "code",
      "source": [
        "#load the flights dataset\n",
        "flights=spark.read.format(\"csv\") \\\n",
        ".option(\"header\", \"true\") \\\n",
        ".option(\"inferSchema\", \"true\") \\\n",
        ".load(\"/content/departuredelays.csv\")"
      ],
      "metadata": {
        "id": "_fjUR4pzzAy0"
      },
      "execution_count": null,
      "outputs": []
    },
    {
      "cell_type": "code",
      "source": [
        "# Create a temporary view of the DataFrame\n",
        "flights.createOrReplaceTempView(\"flights\")"
      ],
      "metadata": {
        "id": "d5Iqg2zvzA2T"
      },
      "execution_count": null,
      "outputs": []
    },
    {
      "cell_type": "code",
      "source": [
        "# Example 4: Average delay by origin airport (top 10)\n",
        "avg_delay_by_origin_mithil = spark.sql(\"\"\"\n",
        "    SELECT origin, AVG(delay) as avg_delay\n",
        "    FROM flights\n",
        "    GROUP BY origin\n",
        "    ORDER BY avg_delay DESC\n",
        "    LIMIT 10\n",
        "\"\"\")"
      ],
      "metadata": {
        "id": "iUxyIF9gzA5t"
      },
      "execution_count": null,
      "outputs": []
    },
    {
      "cell_type": "code",
      "source": [
        "avg_delay_by_origin_mithil.show()"
      ],
      "metadata": {
        "colab": {
          "base_uri": "https://localhost:8080/"
        },
        "id": "k1nG9ziQzA9L",
        "outputId": "18c215a0-6fa3-4823-a83c-53c58571f08d"
      },
      "execution_count": null,
      "outputs": [
        {
          "output_type": "stream",
          "name": "stdout",
          "text": [
            "+------+------------------+\n",
            "|origin|         avg_delay|\n",
            "+------+------------------+\n",
            "|   GUM| 33.87777777777778|\n",
            "|   LSE|26.532467532467532|\n",
            "|   MQT| 23.87012987012987|\n",
            "|   EGE| 20.57012542759407|\n",
            "|   ROA|19.885106382978723|\n",
            "|   MDW|19.657658556043078|\n",
            "|   BTV|  18.7246192893401|\n",
            "|   ORD|18.588917606028524|\n",
            "|   IAD| 18.40343803056027|\n",
            "|   SCE| 17.91616766467066|\n",
            "+------+------------------+\n",
            "\n"
          ]
        }
      ]
    },
    {
      "cell_type": "code",
      "source": [
        "# Example 5: Top 5 busiest routes\n",
        "busiest_routes_mithil = spark.sql(\"\"\"\n",
        "    SELECT\n",
        "    origin,\n",
        "    destination,\n",
        "    COUNT(*) as flight_count\n",
        "    FROM flights\n",
        "    GROUP BY origin, destination\n",
        "    ORDER BY flight_count DESC\n",
        "    LIMIT 5\n",
        "\"\"\")"
      ],
      "metadata": {
        "id": "SSLf0qQ8zBAk"
      },
      "execution_count": null,
      "outputs": []
    },
    {
      "cell_type": "code",
      "source": [
        "busiest_routes_mithil.show()"
      ],
      "metadata": {
        "colab": {
          "base_uri": "https://localhost:8080/"
        },
        "id": "EGAsuFzFzBDz",
        "outputId": "de0416d8-fa02-4b2a-f421-208a724da1d2"
      },
      "execution_count": null,
      "outputs": [
        {
          "output_type": "stream",
          "name": "stdout",
          "text": [
            "+------+-----------+------------+\n",
            "|origin|destination|flight_count|\n",
            "+------+-----------+------------+\n",
            "|   SFO|        LAX|        3232|\n",
            "|   LAX|        SFO|        3198|\n",
            "|   LAS|        LAX|        3016|\n",
            "|   LAX|        LAS|        2964|\n",
            "|   JFK|        LAX|        2720|\n",
            "+------+-----------+------------+\n",
            "\n"
          ]
        }
      ]
    },
    {
      "cell_type": "code",
      "source": [
        "# Example 6: Monthly flight trends\n",
        "monthly_trends_mithil = spark.sql(\"\"\"\n",
        "    SELECT\n",
        "    SUBSTRING(CAST(date AS STRING), 5, 2) as month,\n",
        "    COUNT(*) as total_flights,\n",
        "    AVG(delay) as avg_delay\n",
        "    FROM flights\n",
        "    GROUP BY SUBSTRING(CAST(date AS STRING), 5, 2)\n",
        "    ORDER BY month\n",
        "\"\"\")\n"
      ],
      "metadata": {
        "id": "Wac9fyG-zBHV"
      },
      "execution_count": null,
      "outputs": []
    },
    {
      "cell_type": "code",
      "source": [
        "monthly_trends_mithil.show()"
      ],
      "metadata": {
        "colab": {
          "base_uri": "https://localhost:8080/"
        },
        "id": "Nzih3k340c9q",
        "outputId": "63560ed2-a850-4f16-fcde-e37e0808dfe1"
      },
      "execution_count": null,
      "outputs": [
        {
          "output_type": "stream",
          "name": "stdout",
          "text": [
            "+-----+-------------+------------------+\n",
            "|month|total_flights|         avg_delay|\n",
            "+-----+-------------+------------------+\n",
            "|   00|        30649|11.788965382231067|\n",
            "|   01|        25780|11.812063615205586|\n",
            "|   02|        22895|13.687311640096091|\n",
            "|   03|        25564|13.048623063683305|\n",
            "|   04|        21493|13.328013771925743|\n",
            "|   05|        23497|13.285057666936204|\n",
            "|   10|        26978| 13.16543109200089|\n",
            "|   11|        23701|12.136070208008102|\n",
            "|   12|        20706|11.687192118226601|\n",
            "|   13|        19877|11.790461337223928|\n",
            "|   14|        19595|12.156723653993366|\n",
            "|   15|        22111|12.806883451675636|\n",
            "|   20|        21945| 11.77717019822283|\n",
            "|   21|        18080|11.789546460176991|\n",
            "|   22|        15428|  13.0869198859217|\n",
            "|   23|        17676|11.292939579090293|\n",
            "|   24|        15752|11.935627221940072|\n",
            "|   25|        16961|11.581451565355817|\n",
            "|   30|        18012|11.682378414390406|\n",
            "|   31|        17022|12.303900834214545|\n",
            "+-----+-------------+------------------+\n",
            "only showing top 20 rows\n",
            "\n"
          ]
        }
      ]
    },
    {
      "cell_type": "code",
      "source": [
        "# Example 7: Percentage of delayed flights by origin\n",
        "delayed_percentage = spark.sql(\"\"\"\n",
        "    SELECT\n",
        "    origin,\n",
        "    COUNT(*) as total_flights,\n",
        "    SUM(CASE WHEN delay > 0 THEN 1 ELSE 0 END) as delayed_flights,\n",
        "      (SUM(CASE WHEN delay > 0 THEN 1 ELSE 0 END) * 100.0 / COUNT(*)) as delayed_percentage\n",
        "    FROM flights\n",
        "    GROUP BY origin\n",
        "    ORDER BY delayed_percentage DESC\n",
        "    LIMIT 10\n",
        "\"\"\")"
      ],
      "metadata": {
        "id": "eaxayrEv0dA6"
      },
      "execution_count": null,
      "outputs": []
    },
    {
      "cell_type": "code",
      "source": [
        "delayed_percentage.show()"
      ],
      "metadata": {
        "colab": {
          "base_uri": "https://localhost:8080/"
        },
        "id": "YceQcDgS0dET",
        "outputId": "f5c6d4db-8f8b-42de-a4d7-d984be40549a"
      },
      "execution_count": null,
      "outputs": [
        {
          "output_type": "stream",
          "name": "stdout",
          "text": [
            "+------+-------------+---------------+------------------+\n",
            "|origin|total_flights|delayed_flights|delayed_percentage|\n",
            "+------+-------------+---------------+------------------+\n",
            "|   DAL|        11272|           7153| 63.45812633073101|\n",
            "|   MDW|        20056|          12671| 63.17810131631432|\n",
            "|   HOU|        14740|           8639| 58.60922659430122|\n",
            "|   DEN|        53148|          30760| 57.87611951531572|\n",
            "|   BWI|        21558|          12448| 57.74190555710177|\n",
            "|   OAK|        10026|           5423| 54.08936764412527|\n",
            "|   LSE|          154|             83| 53.89610389610390|\n",
            "|   ORD|        64228|          33812| 52.64370679454444|\n",
            "|   ISP|         1370|            720| 52.55474452554745|\n",
            "|   STL|        12142|           6250| 51.47422170976775|\n",
            "+------+-------------+---------------+------------------+\n",
            "\n"
          ]
        }
      ]
    },
    {
      "cell_type": "code",
      "source": [
        "# Example 8: Average delay by hour of day\n",
        "delay_by_hour_mithil = spark.sql(\"\"\"\n",
        "    SELECT\n",
        "    CAST(SUBSTRING(CAST(date AS STRING), 10, 2) AS INT) as hour,\n",
        "    AVG(delay) as avg_delay\n",
        "    FROM flights\n",
        "    GROUP BY SUBSTRING(CAST(date AS STRING), 10, 2)\n",
        "    ORDER BY hour\n",
        "\"\"\")\n"
      ],
      "metadata": {
        "id": "1Bn33nT40dHj"
      },
      "execution_count": null,
      "outputs": []
    },
    {
      "cell_type": "code",
      "source": [
        "delay_by_hour_mithil.show()"
      ],
      "metadata": {
        "colab": {
          "base_uri": "https://localhost:8080/"
        },
        "id": "YiCVGlQq05QD",
        "outputId": "a47fa0ce-e4e1-4434-dd5a-9bd5ec7773b5"
      },
      "execution_count": null,
      "outputs": [
        {
          "output_type": "stream",
          "name": "stdout",
          "text": [
            "+----+------------------+\n",
            "|hour|         avg_delay|\n",
            "+----+------------------+\n",
            "|NULL|12.079802928761449|\n",
            "+----+------------------+\n",
            "\n"
          ]
        }
      ]
    },
    {
      "cell_type": "code",
      "source": [
        "# Stop the SparkSession\n",
        "spark.stop()\n"
      ],
      "metadata": {
        "id": "uHrstlzI05Sy"
      },
      "execution_count": null,
      "outputs": []
    },
    {
      "cell_type": "code",
      "source": [],
      "metadata": {
        "id": "_MxEOYmb05V0"
      },
      "execution_count": null,
      "outputs": []
    },
    {
      "cell_type": "code",
      "source": [],
      "metadata": {
        "id": "oGfp79cI05YK"
      },
      "execution_count": null,
      "outputs": []
    }
  ]
}